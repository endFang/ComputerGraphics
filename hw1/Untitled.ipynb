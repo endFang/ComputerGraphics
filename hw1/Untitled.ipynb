{
 "cells": [
  {
   "cell_type": "code",
   "execution_count": 184,
   "metadata": {},
   "outputs": [
    {
     "data": {
      "image/png": "[encoded data removed]",
      "text/plain": [
       "<Figure size 432x288 with 1 Axes>"
      ]
     },
     "metadata": {
      "needs_background": "light"
     },
     "output_type": "display_data"
    },
    {
     "name": "stdout",
     "output_type": "stream",
     "text": [
      "[[ 0  1  2  3  4  5  6  7  8]\n",
      " [ 9 10 11 12 13 14 15 16 17]\n",
      " [18 19 20 21 22 23 24 25 26]\n",
      " [27 28 29 30 31 32 33 34 35]]\n",
      "\n",
      "\n",
      "R_value pos: \n",
      "[[ 9 11 13 15 17]\n",
      " [27 29 31 33 35]]\n",
      "\n",
      "\n"
     ]
    }
   ],
   "source": [
    "import numpy as np\n",
    "import matplotlib.pyplot as plt\n",
    "h = 4\n",
    "w = 9\n",
    "I = np.arange(0,h*w).reshape(h,w)\n",
    "\n",
    "I1 = np.zeros((3,3,3), dtype=np.float32)\n",
    "\n",
    "plt.imshow(I1)\n",
    "plt.show()\n",
    "\n",
    "print(I)\n",
    "print(\"\\n\")\n",
    "\n",
    "offset = 1 if (2%2 == 0) else 2\n",
    "\n",
    "\n",
    "# R_value\n",
    "print(\"R_value pos: \")\n",
    "print(I[1::2, 0::2])\n",
    "print(\"\\n\")\n"
   ]
  },
  {
   "cell_type": "code",
   "execution_count": 144,
   "metadata": {},
   "outputs": [
    {
     "name": "stdout",
     "output_type": "stream",
     "text": [
      "[[0 1 2]\n",
      " [3 4 5]\n",
      " [6 7 8]]\n",
      "[[  0   1   0]\n",
      " [270   4 270]\n",
      " [540   7 540]]\n"
     ]
    }
   ],
   "source": [
    "a = np.arange(9).reshape(3,3)\n",
    "print(a)\n",
    "\n",
    "a[:3:, ::2] = 0.1*a[:3:,0:1:] + 90*a[:3:,0:1:]\n",
    "\n",
    "# print(a[:3:, ::2])\n",
    "# print(a[:3:, 0:1:])\n",
    "\n",
    "print(a)"
   ]
  },
  {
   "cell_type": "code",
   "execution_count": 155,
   "metadata": {},
   "outputs": [
    {
     "name": "stdout",
     "output_type": "stream",
     "text": [
      "0\n"
     ]
    }
   ],
   "source": [
    "a = 9\n",
    "print(a%3)"
   ]
  },
  {
   "cell_type": "code",
   "execution_count": 10,
   "metadata": {},
   "outputs": [
    {
     "name": "stdout",
     "output_type": "stream",
     "text": [
      "[14 13 12 11 10  9  8  7  6  5]\n"
     ]
    }
   ],
   "source": [
    "result = a[::-1]\n",
    "print(result)"
   ]
  },
  {
   "cell_type": "code",
   "execution_count": 11,
   "metadata": {},
   "outputs": [
    {
     "name": "stdout",
     "output_type": "stream",
     "text": [
      "[1840 1841 1842 1843 1844 1845 1846 1847 1848 1849 1850 1851 1852 1853\n",
      " 1854 1855 1856 1857 1858 1859]\n",
      "(array([11, 12, 13, 14, 15, 16, 17, 18, 19]),)\n",
      "[1851 1852 1853 1854 1855 1856 1857 1858 1859]\n"
     ]
    }
   ],
   "source": [
    "f = np.arange(1840,1860)\n",
    "print(f)\n",
    "g = np.where(f>1850)\n",
    "print(g)\n",
    "result = f[g]\n",
    "print(result)"
   ]
  },
  {
   "cell_type": "code",
   "execution_count": 3,
   "metadata": {},
   "outputs": [
    {
     "name": "stdout",
     "output_type": "stream",
     "text": [
      "[[1. 1. 1. 1. 1. 1. 1. 1. 1. 1.]]\n",
      "[1. 1. 1. 1. 1. 1. 1. 1. 1. 1.]\n",
      "[10.]\n"
     ]
    }
   ],
   "source": [
    "x = np.ones((1,10))\n",
    "print(x)\n",
    "result = x.sum(axis=0)\n",
    "print(result)\n",
    "result = x.sum(axis=1)\n",
    "print(result)"
   ]
  },
  {
   "cell_type": "code",
   "execution_count": null,
   "metadata": {},
   "outputs": [],
   "source": []
  }
 ],
 "metadata": {
  "kernelspec": {
   "display_name": "Python 3",
   "language": "python",
   "name": "python3"
  },
  "language_info": {
   "codemirror_mode": {
    "name": "ipython",
    "version": 3
   },
   "file_extension": ".py",
   "mimetype": "text/x-python",
   "name": "python",
   "nbconvert_exporter": "python",
   "pygments_lexer": "ipython3",
   "version": "3.7.1"
  }
 },
 "nbformat": 4,
 "nbformat_minor": 2
}
